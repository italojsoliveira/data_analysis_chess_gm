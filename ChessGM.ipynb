{
  "nbformat": 4,
  "nbformat_minor": 0,
  "metadata": {
    "colab": {
      "name": "ChessGM.ipynb",
      "provenance": [],
      "collapsed_sections": [],
      "toc_visible": true
    },
    "kernelspec": {
      "name": "python3",
      "display_name": "Python 3"
    },
    "language_info": {
      "name": "python"
    }
  },
  "cells": [
    {
      "cell_type": "markdown",
      "metadata": {
        "id": "_yruzaaA4Q-j"
      },
      "source": [
        "# Data Analysis of Chess Grandmasters (GM)\n",
        "\n",
        "Recently, the Indian-American Abhimanyu Mishra became the [youngest Grandmaster](https://www.chess.com/news/view/abhimanyu-mishra-youngest-grandmaster-in-chess-history) in chess history, qualifying for the title at the age of 12 years 4 months and 25 days, whereas the Venezuelan [Salvador Diaz Carias](https://www.chess.com/news/view/venezuela-chess-player-fm-title-88-salvador-diaz-carias) got the FIDE Master (FM) Title at the age of 88. Motivated by these news, which I came to know by the Brazilian YouTube channel [Xadrez Brasil](https://www.youtube.com/c/XadrezBrasil), I decided to do a data analysis and visualization about the GMs based on Wikipedia \"[List of chess grandmasters](https://en.wikipedia.org/wiki/List_of_chess_grandmasters)\"."
      ]
    },
    {
      "cell_type": "markdown",
      "metadata": {
        "id": "3--xoA6eSSfl"
      },
      "source": [
        "## General Research Questions about GMs\n",
        "\n",
        "We aim at approaching the following questions. These questions guide our exploration, but does not limit it.\n",
        "\n",
        "1. What is the distribution of GM title since 1950 (when it started)?\n",
        "\n",
        "2. What is the relationship, if any, between age and receiving GM title?\n",
        "\n",
        "3. What is the distribution of GM title among the countries and sex?"
      ]
    },
    {
      "cell_type": "markdown",
      "metadata": {
        "id": "V7a2NZYXYtxO"
      },
      "source": [
        "## Python Libraries"
      ]
    },
    {
      "cell_type": "code",
      "metadata": {
        "id": "j0WL4wMIXabU"
      },
      "source": [
        "# Importing the necessary Python libraries to our tasks:\n",
        "\n",
        "import numpy as np # data analysis\n",
        "import pandas as pd # data analysis and manipulation\n",
        "import matplotlib.pyplot as plt # data visualization\n",
        "%matplotlib inline\n",
        "import seaborn as sns # data visualization\n",
        "\n",
        "from IPython.core.display import display, HTML\n",
        "# This package allows embedding here the visualization made by Flourish website: https://app.flourish.studio/."
      ],
      "execution_count": 1,
      "outputs": []
    },
    {
      "cell_type": "markdown",
      "metadata": {
        "id": "ltpzMCeaY360"
      },
      "source": [
        "## Data Extraction"
      ]
    },
    {
      "cell_type": "code",
      "metadata": {
        "id": "EpmBJXgvXaem"
      },
      "source": [
        "# Our data source: the Wikipedia \"List of chess grandmasters\".\n",
        "\n",
        "url = \"https://en.wikipedia.org/wiki/List_of_chess_grandmasters\""
      ],
      "execution_count": 2,
      "outputs": []
    },
    {
      "cell_type": "markdown",
      "metadata": {
        "id": "uTjPKi1HZIn7"
      },
      "source": [
        "## Data Cleaning and Preparation"
      ]
    },
    {
      "cell_type": "code",
      "metadata": {
        "id": "yFQAfqdwYQJw",
        "colab": {
          "base_uri": "https://localhost:8080/"
        },
        "outputId": "72908561-8b46-4df2-e187-6d6f55627ff3"
      },
      "source": [
        "# Reading and selecting the table we are interested in:\n",
        "\n",
        "html = pd.read_html(url, match = \"Birthplace\")\n",
        "html\n",
        "\n",
        "# Notice the output is a list."
      ],
      "execution_count": 3,
      "outputs": [
        {
          "output_type": "execute_result",
          "data": {
            "text/plain": [
              "[                    Name  ...                                             Notes\n",
              " 0                    NaN  ...                                               NaN\n",
              " 1         Aagaard, Jacob  ...  Di Felice; title application; currently Scotland\n",
              " 2          Abasov, Nijat  ...                      Di Felice; title application\n",
              " 3       Abbasifar, Hasan  ...              Di Felice; title application[note 1]\n",
              " 4         Abbasov, Farid  ...                      Di Felice; title application\n",
              " ...                  ...  ...                                               ...\n",
              " 1935          Zoler, Dan  ...             Di Felice; title application[note 84]\n",
              " 1936     Zontakh, Andrey  ...                                         Di Felice\n",
              " 1937  Zubarev, Alexander  ...                                         Di Felice\n",
              " 1938    Zubov, Alexander  ...                      Di Felice; title application\n",
              " 1939   Zvjaginsev, Vadim  ...                                         Di Felice\n",
              " \n",
              " [1940 rows x 9 columns]]"
            ]
          },
          "metadata": {
            "tags": []
          },
          "execution_count": 3
        }
      ]
    },
    {
      "cell_type": "code",
      "metadata": {
        "colab": {
          "base_uri": "https://localhost:8080/",
          "height": 572
        },
        "id": "SQKxuPE0YgWZ",
        "outputId": "5788da38-3ffe-47a3-a234-29f4f6bfc179"
      },
      "source": [
        "# Taking the table as a DataFrame from the list:\n",
        "\n",
        "html[0]"
      ],
      "execution_count": 4,
      "outputs": [
        {
          "output_type": "execute_result",
          "data": {
            "text/html": [
              "<div>\n",
              "<style scoped>\n",
              "    .dataframe tbody tr th:only-of-type {\n",
              "        vertical-align: middle;\n",
              "    }\n",
              "\n",
              "    .dataframe tbody tr th {\n",
              "        vertical-align: top;\n",
              "    }\n",
              "\n",
              "    .dataframe thead th {\n",
              "        text-align: right;\n",
              "    }\n",
              "</style>\n",
              "<table border=\"1\" class=\"dataframe\">\n",
              "  <thead>\n",
              "    <tr style=\"text-align: right;\">\n",
              "      <th></th>\n",
              "      <th>Name</th>\n",
              "      <th>FIDE ID</th>\n",
              "      <th>Born</th>\n",
              "      <th>Birthplace</th>\n",
              "      <th>Died</th>\n",
              "      <th>TitleYear</th>\n",
              "      <th>Federation</th>\n",
              "      <th>Sex</th>\n",
              "      <th>Notes</th>\n",
              "    </tr>\n",
              "  </thead>\n",
              "  <tbody>\n",
              "    <tr>\n",
              "      <th>0</th>\n",
              "      <td>NaN</td>\n",
              "      <td>NaN</td>\n",
              "      <td>NaN</td>\n",
              "      <td>NaN</td>\n",
              "      <td>NaN</td>\n",
              "      <td>NaN</td>\n",
              "      <td>NaN</td>\n",
              "      <td>NaN</td>\n",
              "      <td>NaN</td>\n",
              "    </tr>\n",
              "    <tr>\n",
              "      <th>1</th>\n",
              "      <td>Aagaard, Jacob</td>\n",
              "      <td>1401815.0</td>\n",
              "      <td>1973-07-31</td>\n",
              "      <td>Hørsholm</td>\n",
              "      <td>NaN</td>\n",
              "      <td>2007.0</td>\n",
              "      <td>Denmark</td>\n",
              "      <td>M</td>\n",
              "      <td>Di Felice; title application; currently Scotland</td>\n",
              "    </tr>\n",
              "    <tr>\n",
              "      <th>2</th>\n",
              "      <td>Abasov, Nijat</td>\n",
              "      <td>13402960.0</td>\n",
              "      <td>1995-05-14</td>\n",
              "      <td>Baku</td>\n",
              "      <td>NaN</td>\n",
              "      <td>2011.0</td>\n",
              "      <td>Azerbaijan</td>\n",
              "      <td>M</td>\n",
              "      <td>Di Felice; title application</td>\n",
              "    </tr>\n",
              "    <tr>\n",
              "      <th>3</th>\n",
              "      <td>Abbasifar, Hasan</td>\n",
              "      <td>12501000.0</td>\n",
              "      <td>1972-09-12</td>\n",
              "      <td>Shiraz</td>\n",
              "      <td>NaN</td>\n",
              "      <td>2013.0</td>\n",
              "      <td>Iran</td>\n",
              "      <td>M</td>\n",
              "      <td>Di Felice; title application[note 1]</td>\n",
              "    </tr>\n",
              "    <tr>\n",
              "      <th>4</th>\n",
              "      <td>Abbasov, Farid</td>\n",
              "      <td>13400665.0</td>\n",
              "      <td>1979-01-31</td>\n",
              "      <td>Baku</td>\n",
              "      <td>NaN</td>\n",
              "      <td>2007.0</td>\n",
              "      <td>Azerbaijan</td>\n",
              "      <td>M</td>\n",
              "      <td>Di Felice; title application</td>\n",
              "    </tr>\n",
              "    <tr>\n",
              "      <th>...</th>\n",
              "      <td>...</td>\n",
              "      <td>...</td>\n",
              "      <td>...</td>\n",
              "      <td>...</td>\n",
              "      <td>...</td>\n",
              "      <td>...</td>\n",
              "      <td>...</td>\n",
              "      <td>...</td>\n",
              "      <td>...</td>\n",
              "    </tr>\n",
              "    <tr>\n",
              "      <th>1935</th>\n",
              "      <td>Zoler, Dan</td>\n",
              "      <td>2800705.0</td>\n",
              "      <td>1974-01-10</td>\n",
              "      <td>NaN</td>\n",
              "      <td>NaN</td>\n",
              "      <td>2011.0</td>\n",
              "      <td>Israel</td>\n",
              "      <td>M</td>\n",
              "      <td>Di Felice; title application[note 84]</td>\n",
              "    </tr>\n",
              "    <tr>\n",
              "      <th>1936</th>\n",
              "      <td>Zontakh, Andrey</td>\n",
              "      <td>14101130.0</td>\n",
              "      <td>1970-11-04</td>\n",
              "      <td>NaN</td>\n",
              "      <td>NaN</td>\n",
              "      <td>1997.0</td>\n",
              "      <td>Ukraine</td>\n",
              "      <td>M</td>\n",
              "      <td>Di Felice</td>\n",
              "    </tr>\n",
              "    <tr>\n",
              "      <th>1937</th>\n",
              "      <td>Zubarev, Alexander</td>\n",
              "      <td>14104385.0</td>\n",
              "      <td>1979-12-17</td>\n",
              "      <td>NaN</td>\n",
              "      <td>NaN</td>\n",
              "      <td>2002.0</td>\n",
              "      <td>Ukraine</td>\n",
              "      <td>M</td>\n",
              "      <td>Di Felice</td>\n",
              "    </tr>\n",
              "    <tr>\n",
              "      <th>1938</th>\n",
              "      <td>Zubov, Alexander</td>\n",
              "      <td>14109409.0</td>\n",
              "      <td>1983-04-04</td>\n",
              "      <td>NaN</td>\n",
              "      <td>NaN</td>\n",
              "      <td>2011.0</td>\n",
              "      <td>Ukraine</td>\n",
              "      <td>M</td>\n",
              "      <td>Di Felice; title application</td>\n",
              "    </tr>\n",
              "    <tr>\n",
              "      <th>1939</th>\n",
              "      <td>Zvjaginsev, Vadim</td>\n",
              "      <td>4113403.0</td>\n",
              "      <td>1976-08-18</td>\n",
              "      <td>Moscow</td>\n",
              "      <td>NaN</td>\n",
              "      <td>1994.0</td>\n",
              "      <td>Russia</td>\n",
              "      <td>M</td>\n",
              "      <td>Di Felice</td>\n",
              "    </tr>\n",
              "  </tbody>\n",
              "</table>\n",
              "<p>1940 rows × 9 columns</p>\n",
              "</div>"
            ],
            "text/plain": [
              "                    Name  ...                                             Notes\n",
              "0                    NaN  ...                                               NaN\n",
              "1         Aagaard, Jacob  ...  Di Felice; title application; currently Scotland\n",
              "2          Abasov, Nijat  ...                      Di Felice; title application\n",
              "3       Abbasifar, Hasan  ...              Di Felice; title application[note 1]\n",
              "4         Abbasov, Farid  ...                      Di Felice; title application\n",
              "...                  ...  ...                                               ...\n",
              "1935          Zoler, Dan  ...             Di Felice; title application[note 84]\n",
              "1936     Zontakh, Andrey  ...                                         Di Felice\n",
              "1937  Zubarev, Alexander  ...                                         Di Felice\n",
              "1938    Zubov, Alexander  ...                      Di Felice; title application\n",
              "1939   Zvjaginsev, Vadim  ...                                         Di Felice\n",
              "\n",
              "[1940 rows x 9 columns]"
            ]
          },
          "metadata": {
            "tags": []
          },
          "execution_count": 4
        }
      ]
    },
    {
      "cell_type": "code",
      "metadata": {
        "colab": {
          "base_uri": "https://localhost:8080/",
          "height": 419
        },
        "id": "s7pEiMRcAnOh",
        "outputId": "decd9a68-817d-47e7-ba6c-a2ccee1a30dd"
      },
      "source": [
        "# Reducing the table to just the columns we are interested in:\n",
        "\n",
        "table1 = html[0][[\"Name\", \"Born\", \"TitleYear\", \"Federation\", \"Sex\"]]\n",
        "table1"
      ],
      "execution_count": 5,
      "outputs": [
        {
          "output_type": "execute_result",
          "data": {
            "text/html": [
              "<div>\n",
              "<style scoped>\n",
              "    .dataframe tbody tr th:only-of-type {\n",
              "        vertical-align: middle;\n",
              "    }\n",
              "\n",
              "    .dataframe tbody tr th {\n",
              "        vertical-align: top;\n",
              "    }\n",
              "\n",
              "    .dataframe thead th {\n",
              "        text-align: right;\n",
              "    }\n",
              "</style>\n",
              "<table border=\"1\" class=\"dataframe\">\n",
              "  <thead>\n",
              "    <tr style=\"text-align: right;\">\n",
              "      <th></th>\n",
              "      <th>Name</th>\n",
              "      <th>Born</th>\n",
              "      <th>TitleYear</th>\n",
              "      <th>Federation</th>\n",
              "      <th>Sex</th>\n",
              "    </tr>\n",
              "  </thead>\n",
              "  <tbody>\n",
              "    <tr>\n",
              "      <th>0</th>\n",
              "      <td>NaN</td>\n",
              "      <td>NaN</td>\n",
              "      <td>NaN</td>\n",
              "      <td>NaN</td>\n",
              "      <td>NaN</td>\n",
              "    </tr>\n",
              "    <tr>\n",
              "      <th>1</th>\n",
              "      <td>Aagaard, Jacob</td>\n",
              "      <td>1973-07-31</td>\n",
              "      <td>2007.0</td>\n",
              "      <td>Denmark</td>\n",
              "      <td>M</td>\n",
              "    </tr>\n",
              "    <tr>\n",
              "      <th>2</th>\n",
              "      <td>Abasov, Nijat</td>\n",
              "      <td>1995-05-14</td>\n",
              "      <td>2011.0</td>\n",
              "      <td>Azerbaijan</td>\n",
              "      <td>M</td>\n",
              "    </tr>\n",
              "    <tr>\n",
              "      <th>3</th>\n",
              "      <td>Abbasifar, Hasan</td>\n",
              "      <td>1972-09-12</td>\n",
              "      <td>2013.0</td>\n",
              "      <td>Iran</td>\n",
              "      <td>M</td>\n",
              "    </tr>\n",
              "    <tr>\n",
              "      <th>4</th>\n",
              "      <td>Abbasov, Farid</td>\n",
              "      <td>1979-01-31</td>\n",
              "      <td>2007.0</td>\n",
              "      <td>Azerbaijan</td>\n",
              "      <td>M</td>\n",
              "    </tr>\n",
              "    <tr>\n",
              "      <th>...</th>\n",
              "      <td>...</td>\n",
              "      <td>...</td>\n",
              "      <td>...</td>\n",
              "      <td>...</td>\n",
              "      <td>...</td>\n",
              "    </tr>\n",
              "    <tr>\n",
              "      <th>1935</th>\n",
              "      <td>Zoler, Dan</td>\n",
              "      <td>1974-01-10</td>\n",
              "      <td>2011.0</td>\n",
              "      <td>Israel</td>\n",
              "      <td>M</td>\n",
              "    </tr>\n",
              "    <tr>\n",
              "      <th>1936</th>\n",
              "      <td>Zontakh, Andrey</td>\n",
              "      <td>1970-11-04</td>\n",
              "      <td>1997.0</td>\n",
              "      <td>Ukraine</td>\n",
              "      <td>M</td>\n",
              "    </tr>\n",
              "    <tr>\n",
              "      <th>1937</th>\n",
              "      <td>Zubarev, Alexander</td>\n",
              "      <td>1979-12-17</td>\n",
              "      <td>2002.0</td>\n",
              "      <td>Ukraine</td>\n",
              "      <td>M</td>\n",
              "    </tr>\n",
              "    <tr>\n",
              "      <th>1938</th>\n",
              "      <td>Zubov, Alexander</td>\n",
              "      <td>1983-04-04</td>\n",
              "      <td>2011.0</td>\n",
              "      <td>Ukraine</td>\n",
              "      <td>M</td>\n",
              "    </tr>\n",
              "    <tr>\n",
              "      <th>1939</th>\n",
              "      <td>Zvjaginsev, Vadim</td>\n",
              "      <td>1976-08-18</td>\n",
              "      <td>1994.0</td>\n",
              "      <td>Russia</td>\n",
              "      <td>M</td>\n",
              "    </tr>\n",
              "  </tbody>\n",
              "</table>\n",
              "<p>1940 rows × 5 columns</p>\n",
              "</div>"
            ],
            "text/plain": [
              "                    Name        Born  TitleYear  Federation  Sex\n",
              "0                    NaN         NaN        NaN         NaN  NaN\n",
              "1         Aagaard, Jacob  1973-07-31     2007.0     Denmark    M\n",
              "2          Abasov, Nijat  1995-05-14     2011.0  Azerbaijan    M\n",
              "3       Abbasifar, Hasan  1972-09-12     2013.0        Iran    M\n",
              "4         Abbasov, Farid  1979-01-31     2007.0  Azerbaijan    M\n",
              "...                  ...         ...        ...         ...  ...\n",
              "1935          Zoler, Dan  1974-01-10     2011.0      Israel    M\n",
              "1936     Zontakh, Andrey  1970-11-04     1997.0     Ukraine    M\n",
              "1937  Zubarev, Alexander  1979-12-17     2002.0     Ukraine    M\n",
              "1938    Zubov, Alexander  1983-04-04     2011.0     Ukraine    M\n",
              "1939   Zvjaginsev, Vadim  1976-08-18     1994.0      Russia    M\n",
              "\n",
              "[1940 rows x 5 columns]"
            ]
          },
          "metadata": {
            "tags": []
          },
          "execution_count": 5
        }
      ]
    },
    {
      "cell_type": "code",
      "metadata": {
        "id": "UCr6NulSAqpX",
        "colab": {
          "base_uri": "https://localhost:8080/",
          "height": 419
        },
        "outputId": "eceed3c1-c33d-47b3-aa3e-de7bb9e0dcfb"
      },
      "source": [
        "# Dropping the first nonsense line (line zero):\n",
        "\n",
        "table2 = table1.drop(0)\n",
        "table2"
      ],
      "execution_count": 6,
      "outputs": [
        {
          "output_type": "execute_result",
          "data": {
            "text/html": [
              "<div>\n",
              "<style scoped>\n",
              "    .dataframe tbody tr th:only-of-type {\n",
              "        vertical-align: middle;\n",
              "    }\n",
              "\n",
              "    .dataframe tbody tr th {\n",
              "        vertical-align: top;\n",
              "    }\n",
              "\n",
              "    .dataframe thead th {\n",
              "        text-align: right;\n",
              "    }\n",
              "</style>\n",
              "<table border=\"1\" class=\"dataframe\">\n",
              "  <thead>\n",
              "    <tr style=\"text-align: right;\">\n",
              "      <th></th>\n",
              "      <th>Name</th>\n",
              "      <th>Born</th>\n",
              "      <th>TitleYear</th>\n",
              "      <th>Federation</th>\n",
              "      <th>Sex</th>\n",
              "    </tr>\n",
              "  </thead>\n",
              "  <tbody>\n",
              "    <tr>\n",
              "      <th>1</th>\n",
              "      <td>Aagaard, Jacob</td>\n",
              "      <td>1973-07-31</td>\n",
              "      <td>2007.0</td>\n",
              "      <td>Denmark</td>\n",
              "      <td>M</td>\n",
              "    </tr>\n",
              "    <tr>\n",
              "      <th>2</th>\n",
              "      <td>Abasov, Nijat</td>\n",
              "      <td>1995-05-14</td>\n",
              "      <td>2011.0</td>\n",
              "      <td>Azerbaijan</td>\n",
              "      <td>M</td>\n",
              "    </tr>\n",
              "    <tr>\n",
              "      <th>3</th>\n",
              "      <td>Abbasifar, Hasan</td>\n",
              "      <td>1972-09-12</td>\n",
              "      <td>2013.0</td>\n",
              "      <td>Iran</td>\n",
              "      <td>M</td>\n",
              "    </tr>\n",
              "    <tr>\n",
              "      <th>4</th>\n",
              "      <td>Abbasov, Farid</td>\n",
              "      <td>1979-01-31</td>\n",
              "      <td>2007.0</td>\n",
              "      <td>Azerbaijan</td>\n",
              "      <td>M</td>\n",
              "    </tr>\n",
              "    <tr>\n",
              "      <th>5</th>\n",
              "      <td>Abdumalik, Zhansaya</td>\n",
              "      <td>2000-01-12</td>\n",
              "      <td>2021.0</td>\n",
              "      <td>Kazakhstan</td>\n",
              "      <td>F</td>\n",
              "    </tr>\n",
              "    <tr>\n",
              "      <th>...</th>\n",
              "      <td>...</td>\n",
              "      <td>...</td>\n",
              "      <td>...</td>\n",
              "      <td>...</td>\n",
              "      <td>...</td>\n",
              "    </tr>\n",
              "    <tr>\n",
              "      <th>1935</th>\n",
              "      <td>Zoler, Dan</td>\n",
              "      <td>1974-01-10</td>\n",
              "      <td>2011.0</td>\n",
              "      <td>Israel</td>\n",
              "      <td>M</td>\n",
              "    </tr>\n",
              "    <tr>\n",
              "      <th>1936</th>\n",
              "      <td>Zontakh, Andrey</td>\n",
              "      <td>1970-11-04</td>\n",
              "      <td>1997.0</td>\n",
              "      <td>Ukraine</td>\n",
              "      <td>M</td>\n",
              "    </tr>\n",
              "    <tr>\n",
              "      <th>1937</th>\n",
              "      <td>Zubarev, Alexander</td>\n",
              "      <td>1979-12-17</td>\n",
              "      <td>2002.0</td>\n",
              "      <td>Ukraine</td>\n",
              "      <td>M</td>\n",
              "    </tr>\n",
              "    <tr>\n",
              "      <th>1938</th>\n",
              "      <td>Zubov, Alexander</td>\n",
              "      <td>1983-04-04</td>\n",
              "      <td>2011.0</td>\n",
              "      <td>Ukraine</td>\n",
              "      <td>M</td>\n",
              "    </tr>\n",
              "    <tr>\n",
              "      <th>1939</th>\n",
              "      <td>Zvjaginsev, Vadim</td>\n",
              "      <td>1976-08-18</td>\n",
              "      <td>1994.0</td>\n",
              "      <td>Russia</td>\n",
              "      <td>M</td>\n",
              "    </tr>\n",
              "  </tbody>\n",
              "</table>\n",
              "<p>1939 rows × 5 columns</p>\n",
              "</div>"
            ],
            "text/plain": [
              "                     Name        Born  TitleYear  Federation Sex\n",
              "1          Aagaard, Jacob  1973-07-31     2007.0     Denmark   M\n",
              "2           Abasov, Nijat  1995-05-14     2011.0  Azerbaijan   M\n",
              "3        Abbasifar, Hasan  1972-09-12     2013.0        Iran   M\n",
              "4          Abbasov, Farid  1979-01-31     2007.0  Azerbaijan   M\n",
              "5     Abdumalik, Zhansaya  2000-01-12     2021.0  Kazakhstan   F\n",
              "...                   ...         ...        ...         ...  ..\n",
              "1935           Zoler, Dan  1974-01-10     2011.0      Israel   M\n",
              "1936      Zontakh, Andrey  1970-11-04     1997.0     Ukraine   M\n",
              "1937   Zubarev, Alexander  1979-12-17     2002.0     Ukraine   M\n",
              "1938     Zubov, Alexander  1983-04-04     2011.0     Ukraine   M\n",
              "1939    Zvjaginsev, Vadim  1976-08-18     1994.0      Russia   M\n",
              "\n",
              "[1939 rows x 5 columns]"
            ]
          },
          "metadata": {
            "tags": []
          },
          "execution_count": 6
        }
      ]
    },
    {
      "cell_type": "code",
      "metadata": {
        "colab": {
          "base_uri": "https://localhost:8080/"
        },
        "id": "rvvOR261Kna5",
        "outputId": "03de80ca-68e3-4e2f-8c97-0ec8d413ca4b"
      },
      "source": [
        "# Changing the value of the column 'Born' so that we have only the year:\n",
        "\n",
        "table2['Born'] = table2['Born'].apply(lambda x: x[:4])\n",
        "table2['Born']\n",
        "\n",
        "# This introduces a small imprecision in our analysis since we are not going to consider the exact birth date.\n",
        "# However, as we do not have the exact date of the GM title acquisition, this is the best we can do."
      ],
      "execution_count": 7,
      "outputs": [
        {
          "output_type": "execute_result",
          "data": {
            "text/plain": [
              "1       1973\n",
              "2       1995\n",
              "3       1972\n",
              "4       1979\n",
              "5       2000\n",
              "        ... \n",
              "1935    1974\n",
              "1936    1970\n",
              "1937    1979\n",
              "1938    1983\n",
              "1939    1976\n",
              "Name: Born, Length: 1939, dtype: object"
            ]
          },
          "metadata": {
            "tags": []
          },
          "execution_count": 7
        }
      ]
    },
    {
      "cell_type": "code",
      "metadata": {
        "colab": {
          "base_uri": "https://localhost:8080/"
        },
        "id": "ci_pGFT-QAcF",
        "outputId": "98a1da0e-3a99-4f66-95c3-8bef74797f24"
      },
      "source": [
        "# Changing the data type of the value of the column 'Born' to integer instead of string:\n",
        "\n",
        "table2['Born'] = table2['Born'].apply(lambda x: float(x))\n",
        "table2['Born']"
      ],
      "execution_count": 8,
      "outputs": [
        {
          "output_type": "execute_result",
          "data": {
            "text/plain": [
              "1       1973.0\n",
              "2       1995.0\n",
              "3       1972.0\n",
              "4       1979.0\n",
              "5       2000.0\n",
              "         ...  \n",
              "1935    1974.0\n",
              "1936    1970.0\n",
              "1937    1979.0\n",
              "1938    1983.0\n",
              "1939    1976.0\n",
              "Name: Born, Length: 1939, dtype: float64"
            ]
          },
          "metadata": {
            "tags": []
          },
          "execution_count": 8
        }
      ]
    },
    {
      "cell_type": "code",
      "metadata": {
        "colab": {
          "base_uri": "https://localhost:8080/",
          "height": 419
        },
        "id": "ZP8ediW6LgIw",
        "outputId": "94bc1dd0-3d89-4f42-b8e5-08c6ffbfe544"
      },
      "source": [
        "# Adding a column with TitleAge.\n",
        "# The age of the GMs when they got the title is the title year minus his/her birth date.\n",
        "\n",
        "table2['TitleAge'] = table2['TitleYear'] - table2['Born']\n",
        "table2"
      ],
      "execution_count": 9,
      "outputs": [
        {
          "output_type": "execute_result",
          "data": {
            "text/html": [
              "<div>\n",
              "<style scoped>\n",
              "    .dataframe tbody tr th:only-of-type {\n",
              "        vertical-align: middle;\n",
              "    }\n",
              "\n",
              "    .dataframe tbody tr th {\n",
              "        vertical-align: top;\n",
              "    }\n",
              "\n",
              "    .dataframe thead th {\n",
              "        text-align: right;\n",
              "    }\n",
              "</style>\n",
              "<table border=\"1\" class=\"dataframe\">\n",
              "  <thead>\n",
              "    <tr style=\"text-align: right;\">\n",
              "      <th></th>\n",
              "      <th>Name</th>\n",
              "      <th>Born</th>\n",
              "      <th>TitleYear</th>\n",
              "      <th>Federation</th>\n",
              "      <th>Sex</th>\n",
              "      <th>TitleAge</th>\n",
              "    </tr>\n",
              "  </thead>\n",
              "  <tbody>\n",
              "    <tr>\n",
              "      <th>1</th>\n",
              "      <td>Aagaard, Jacob</td>\n",
              "      <td>1973.0</td>\n",
              "      <td>2007.0</td>\n",
              "      <td>Denmark</td>\n",
              "      <td>M</td>\n",
              "      <td>34.0</td>\n",
              "    </tr>\n",
              "    <tr>\n",
              "      <th>2</th>\n",
              "      <td>Abasov, Nijat</td>\n",
              "      <td>1995.0</td>\n",
              "      <td>2011.0</td>\n",
              "      <td>Azerbaijan</td>\n",
              "      <td>M</td>\n",
              "      <td>16.0</td>\n",
              "    </tr>\n",
              "    <tr>\n",
              "      <th>3</th>\n",
              "      <td>Abbasifar, Hasan</td>\n",
              "      <td>1972.0</td>\n",
              "      <td>2013.0</td>\n",
              "      <td>Iran</td>\n",
              "      <td>M</td>\n",
              "      <td>41.0</td>\n",
              "    </tr>\n",
              "    <tr>\n",
              "      <th>4</th>\n",
              "      <td>Abbasov, Farid</td>\n",
              "      <td>1979.0</td>\n",
              "      <td>2007.0</td>\n",
              "      <td>Azerbaijan</td>\n",
              "      <td>M</td>\n",
              "      <td>28.0</td>\n",
              "    </tr>\n",
              "    <tr>\n",
              "      <th>5</th>\n",
              "      <td>Abdumalik, Zhansaya</td>\n",
              "      <td>2000.0</td>\n",
              "      <td>2021.0</td>\n",
              "      <td>Kazakhstan</td>\n",
              "      <td>F</td>\n",
              "      <td>21.0</td>\n",
              "    </tr>\n",
              "    <tr>\n",
              "      <th>...</th>\n",
              "      <td>...</td>\n",
              "      <td>...</td>\n",
              "      <td>...</td>\n",
              "      <td>...</td>\n",
              "      <td>...</td>\n",
              "      <td>...</td>\n",
              "    </tr>\n",
              "    <tr>\n",
              "      <th>1935</th>\n",
              "      <td>Zoler, Dan</td>\n",
              "      <td>1974.0</td>\n",
              "      <td>2011.0</td>\n",
              "      <td>Israel</td>\n",
              "      <td>M</td>\n",
              "      <td>37.0</td>\n",
              "    </tr>\n",
              "    <tr>\n",
              "      <th>1936</th>\n",
              "      <td>Zontakh, Andrey</td>\n",
              "      <td>1970.0</td>\n",
              "      <td>1997.0</td>\n",
              "      <td>Ukraine</td>\n",
              "      <td>M</td>\n",
              "      <td>27.0</td>\n",
              "    </tr>\n",
              "    <tr>\n",
              "      <th>1937</th>\n",
              "      <td>Zubarev, Alexander</td>\n",
              "      <td>1979.0</td>\n",
              "      <td>2002.0</td>\n",
              "      <td>Ukraine</td>\n",
              "      <td>M</td>\n",
              "      <td>23.0</td>\n",
              "    </tr>\n",
              "    <tr>\n",
              "      <th>1938</th>\n",
              "      <td>Zubov, Alexander</td>\n",
              "      <td>1983.0</td>\n",
              "      <td>2011.0</td>\n",
              "      <td>Ukraine</td>\n",
              "      <td>M</td>\n",
              "      <td>28.0</td>\n",
              "    </tr>\n",
              "    <tr>\n",
              "      <th>1939</th>\n",
              "      <td>Zvjaginsev, Vadim</td>\n",
              "      <td>1976.0</td>\n",
              "      <td>1994.0</td>\n",
              "      <td>Russia</td>\n",
              "      <td>M</td>\n",
              "      <td>18.0</td>\n",
              "    </tr>\n",
              "  </tbody>\n",
              "</table>\n",
              "<p>1939 rows × 6 columns</p>\n",
              "</div>"
            ],
            "text/plain": [
              "                     Name    Born  TitleYear  Federation Sex  TitleAge\n",
              "1          Aagaard, Jacob  1973.0     2007.0     Denmark   M      34.0\n",
              "2           Abasov, Nijat  1995.0     2011.0  Azerbaijan   M      16.0\n",
              "3        Abbasifar, Hasan  1972.0     2013.0        Iran   M      41.0\n",
              "4          Abbasov, Farid  1979.0     2007.0  Azerbaijan   M      28.0\n",
              "5     Abdumalik, Zhansaya  2000.0     2021.0  Kazakhstan   F      21.0\n",
              "...                   ...     ...        ...         ...  ..       ...\n",
              "1935           Zoler, Dan  1974.0     2011.0      Israel   M      37.0\n",
              "1936      Zontakh, Andrey  1970.0     1997.0     Ukraine   M      27.0\n",
              "1937   Zubarev, Alexander  1979.0     2002.0     Ukraine   M      23.0\n",
              "1938     Zubov, Alexander  1983.0     2011.0     Ukraine   M      28.0\n",
              "1939    Zvjaginsev, Vadim  1976.0     1994.0      Russia   M      18.0\n",
              "\n",
              "[1939 rows x 6 columns]"
            ]
          },
          "metadata": {
            "tags": []
          },
          "execution_count": 9
        }
      ]
    },
    {
      "cell_type": "markdown",
      "metadata": {
        "id": "P4MfE6a8Yn8L"
      },
      "source": [
        "## Data Analysis and Visualization"
      ]
    },
    {
      "cell_type": "markdown",
      "metadata": {
        "id": "RHQIX1qT8-XI"
      },
      "source": [
        "### The age of the GM title receivers"
      ]
    },
    {
      "cell_type": "code",
      "metadata": {
        "colab": {
          "base_uri": "https://localhost:8080/"
        },
        "id": "Pbg4pegtQ4zQ",
        "outputId": "9e646c2a-1c81-451c-f51b-8c9f179ccdcf"
      },
      "source": [
        "# Descriptive statistics summary about the age of GMs when they got the title:\n",
        "\n",
        "table2['TitleAge'].describe()"
      ],
      "execution_count": 10,
      "outputs": [
        {
          "output_type": "execute_result",
          "data": {
            "text/plain": [
              "count    1939.000000\n",
              "mean       27.470346\n",
              "std        10.043071\n",
              "min        13.000000\n",
              "25%        21.000000\n",
              "50%        25.000000\n",
              "75%        31.000000\n",
              "max        88.000000\n",
              "Name: TitleAge, dtype: float64"
            ]
          },
          "metadata": {
            "tags": []
          },
          "execution_count": 10
        }
      ]
    },
    {
      "cell_type": "code",
      "metadata": {
        "colab": {
          "base_uri": "https://localhost:8080/",
          "height": 350
        },
        "id": "3s6y3utGRJsX",
        "outputId": "c40a79e4-1c0a-43a1-c1c6-8dec42250fd2"
      },
      "source": [
        "# Scatter plot showing the distribution of title age of the GM and the year of the title:\n",
        "\n",
        "sns.scatterplot(table2['TitleYear'], table2['TitleAge'])"
      ],
      "execution_count": 11,
      "outputs": [
        {
          "output_type": "stream",
          "text": [
            "/usr/local/lib/python3.7/dist-packages/seaborn/_decorators.py:43: FutureWarning: Pass the following variables as keyword args: x, y. From version 0.12, the only valid positional argument will be `data`, and passing other arguments without an explicit keyword will result in an error or misinterpretation.\n",
            "  FutureWarning\n"
          ],
          "name": "stderr"
        },
        {
          "output_type": "execute_result",
          "data": {
            "text/plain": [
              "<matplotlib.axes._subplots.AxesSubplot at 0x7fee2ae94a50>"
            ]
          },
          "metadata": {
            "tags": []
          },
          "execution_count": 11
        },
        {
          "output_type": "display_data",
          "data": {
            "image/png": "[encoded data removed]",
            "text/plain": [
              "<Figure size 432x288 with 1 Axes>"
            ]
          },
          "metadata": {
            "tags": [],
            "needs_background": "light"
          }
        }
      ]
    },
    {
      "cell_type": "markdown",
      "metadata": {
        "id": "ftS5LNil1Q4Q"
      },
      "source": [
        "An interactive scatter plot is displayed at the end of this document."
      ]
    },
    {
      "cell_type": "code",
      "metadata": {
        "colab": {
          "base_uri": "https://localhost:8080/",
          "height": 350
        },
        "id": "mN3XG03gTfga",
        "outputId": "73382bbf-7bf7-472e-c6d4-fa6092d3522e"
      },
      "source": [
        "# Box plot about the title age of the GMs when they received the title.\n",
        "\n",
        "sns.boxplot(table2['TitleAge'])"
      ],
      "execution_count": 12,
      "outputs": [
        {
          "output_type": "stream",
          "text": [
            "/usr/local/lib/python3.7/dist-packages/seaborn/_decorators.py:43: FutureWarning: Pass the following variable as a keyword arg: x. From version 0.12, the only valid positional argument will be `data`, and passing other arguments without an explicit keyword will result in an error or misinterpretation.\n",
            "  FutureWarning\n"
          ],
          "name": "stderr"
        },
        {
          "output_type": "execute_result",
          "data": {
            "text/plain": [
              "<matplotlib.axes._subplots.AxesSubplot at 0x7fee2af1dd10>"
            ]
          },
          "metadata": {
            "tags": []
          },
          "execution_count": 12
        },
        {
          "output_type": "display_data",
          "data": {
            "image/png": "[encoded data removed]",
            "text/plain": [
              "<Figure size 432x288 with 1 Axes>"
            ]
          },
          "metadata": {
            "tags": [],
            "needs_background": "light"
          }
        }
      ]
    },
    {
      "cell_type": "markdown",
      "metadata": {
        "id": "5nw4oY1wakaG"
      },
      "source": [
        "By the analysis and visualization above, we notice that:\n",
        "\n",
        "* The oldest GM title receiver is about 88 years old. But this is **not** entirely correct, because among the 10 oldest chess players (all being at least 77 years old) only [Jacques Mieses](https://en.wikipedia.org/wiki/Jacques_Mieses) (1865-1954) was an active player. He received his title at the age of 85 in 1950 (inauguration of the GM title), but it is said his chess strength was not that great anymore. The other 9 players received honorary titles.\n",
        "\n",
        "* The mean of GM title receivers age is 27 years old. Indeed, 75% of them is at most 31 years old. The standard deviation is about 10 years old\n",
        "\n",
        "* Both the scatter plot and, especially, the box plot highlight that whoever receives the GM title at the age of 45 years or above is already an outlier among the GMs. We see this is even more true once we know most elderly GM title receivers got an honorary title, not a regular one.\n",
        "\n",
        "* The scatter plot also shows a huge growth of GM titles, in particular since 1990."
      ]
    },
    {
      "cell_type": "code",
      "metadata": {
        "colab": {
          "base_uri": "https://localhost:8080/",
          "height": 350
        },
        "id": "7EdIooJHUcL2",
        "outputId": "29b8b0de-66d5-423c-c9ec-14b145d618cd"
      },
      "source": [
        "# Distribution of age of GM title receivers.\n",
        "\n",
        "sns.distplot(table2['TitleAge'])"
      ],
      "execution_count": 13,
      "outputs": [
        {
          "output_type": "stream",
          "text": [
            "/usr/local/lib/python3.7/dist-packages/seaborn/distributions.py:2557: FutureWarning: `distplot` is a deprecated function and will be removed in a future version. Please adapt your code to use either `displot` (a figure-level function with similar flexibility) or `histplot` (an axes-level function for histograms).\n",
            "  warnings.warn(msg, FutureWarning)\n"
          ],
          "name": "stderr"
        },
        {
          "output_type": "execute_result",
          "data": {
            "text/plain": [
              "<matplotlib.axes._subplots.AxesSubplot at 0x7fee2af6c890>"
            ]
          },
          "metadata": {
            "tags": []
          },
          "execution_count": 13
        },
        {
          "output_type": "display_data",
          "data": {
            "image/png": "[encoded data removed]",
            "text/plain": [
              "<Figure size 432x288 with 1 Axes>"
            ]
          },
          "metadata": {
            "tags": [],
            "needs_background": "light"
          }
        }
      ]
    },
    {
      "cell_type": "code",
      "metadata": {
        "colab": {
          "base_uri": "https://localhost:8080/",
          "height": 350
        },
        "id": "Aj5LanCKUn-5",
        "outputId": "49dd994e-4342-4b68-d60d-70fb829affaf"
      },
      "source": [
        "# Distribution of GM titles along the years.\n",
        "\n",
        "sns.distplot(table2['TitleYear'])"
      ],
      "execution_count": 14,
      "outputs": [
        {
          "output_type": "stream",
          "text": [
            "/usr/local/lib/python3.7/dist-packages/seaborn/distributions.py:2557: FutureWarning: `distplot` is a deprecated function and will be removed in a future version. Please adapt your code to use either `displot` (a figure-level function with similar flexibility) or `histplot` (an axes-level function for histograms).\n",
            "  warnings.warn(msg, FutureWarning)\n"
          ],
          "name": "stderr"
        },
        {
          "output_type": "execute_result",
          "data": {
            "text/plain": [
              "<matplotlib.axes._subplots.AxesSubplot at 0x7fee2af26150>"
            ]
          },
          "metadata": {
            "tags": []
          },
          "execution_count": 14
        },
        {
          "output_type": "display_data",
          "data": {
            "image/png": "[encoded data removed]",
            "text/plain": [
              "<Figure size 432x288 with 1 Axes>"
            ]
          },
          "metadata": {
            "tags": [],
            "needs_background": "light"
          }
        }
      ]
    },
    {
      "cell_type": "markdown",
      "metadata": {
        "id": "giF1ZfKKz3xR"
      },
      "source": [
        "The two graphs above show that:\n",
        "\n",
        "* Again, the age of GM title receivers is concentrated between the 20s years old.\n",
        "\n",
        "* Since 1990 we have observed a lot more GM titles. Most likely this is due to the fact that chess became much more popular and accessible, particularly after the spreading of home computers and the internet. The more people interested in chess, the more GMs."
      ]
    },
    {
      "cell_type": "code",
      "metadata": {
        "colab": {
          "base_uri": "https://localhost:8080/",
          "height": 142
        },
        "id": "5FPXnRvCUcDP",
        "outputId": "e80ce2ce-3e3b-4caf-c75a-3dd7621bf1ae"
      },
      "source": [
        "# Correlations\n",
        "\n",
        "table2.corr()\n",
        "\n",
        "# We see the year of birth and the title year are highly correlated with each other"
      ],
      "execution_count": 15,
      "outputs": [
        {
          "output_type": "execute_result",
          "data": {
            "text/html": [
              "<div>\n",
              "<style scoped>\n",
              "    .dataframe tbody tr th:only-of-type {\n",
              "        vertical-align: middle;\n",
              "    }\n",
              "\n",
              "    .dataframe tbody tr th {\n",
              "        vertical-align: top;\n",
              "    }\n",
              "\n",
              "    .dataframe thead th {\n",
              "        text-align: right;\n",
              "    }\n",
              "</style>\n",
              "<table border=\"1\" class=\"dataframe\">\n",
              "  <thead>\n",
              "    <tr style=\"text-align: right;\">\n",
              "      <th></th>\n",
              "      <th>Born</th>\n",
              "      <th>TitleYear</th>\n",
              "      <th>TitleAge</th>\n",
              "    </tr>\n",
              "  </thead>\n",
              "  <tbody>\n",
              "    <tr>\n",
              "      <th>Born</th>\n",
              "      <td>1.000000</td>\n",
              "      <td>0.890823</td>\n",
              "      <td>-0.721711</td>\n",
              "    </tr>\n",
              "    <tr>\n",
              "      <th>TitleYear</th>\n",
              "      <td>0.890823</td>\n",
              "      <td>1.000000</td>\n",
              "      <td>-0.328418</td>\n",
              "    </tr>\n",
              "    <tr>\n",
              "      <th>TitleAge</th>\n",
              "      <td>-0.721711</td>\n",
              "      <td>-0.328418</td>\n",
              "      <td>1.000000</td>\n",
              "    </tr>\n",
              "  </tbody>\n",
              "</table>\n",
              "</div>"
            ],
            "text/plain": [
              "               Born  TitleYear  TitleAge\n",
              "Born       1.000000   0.890823 -0.721711\n",
              "TitleYear  0.890823   1.000000 -0.328418\n",
              "TitleAge  -0.721711  -0.328418  1.000000"
            ]
          },
          "metadata": {
            "tags": []
          },
          "execution_count": 15
        }
      ]
    },
    {
      "cell_type": "code",
      "metadata": {
        "colab": {
          "base_uri": "https://localhost:8080/",
          "height": 359
        },
        "id": "JCskp1F9cN-x",
        "outputId": "a0ce9bd2-ddcc-4c74-f23d-37f01bd87c2d"
      },
      "source": [
        "# The first 10 oldest GM title receivers.\n",
        "\n",
        "table2.sort_values('TitleAge')[-10:]\n",
        "\n",
        "# We notice very old GMs often have received honorary title for their career.\n",
        "\n",
        "# By the way, there are only 19 GMs whose age is at least 70 years old."
      ],
      "execution_count": 16,
      "outputs": [
        {
          "output_type": "execute_result",
          "data": {
            "text/html": [
              "<div>\n",
              "<style scoped>\n",
              "    .dataframe tbody tr th:only-of-type {\n",
              "        vertical-align: middle;\n",
              "    }\n",
              "\n",
              "    .dataframe tbody tr th {\n",
              "        vertical-align: top;\n",
              "    }\n",
              "\n",
              "    .dataframe thead th {\n",
              "        text-align: right;\n",
              "    }\n",
              "</style>\n",
              "<table border=\"1\" class=\"dataframe\">\n",
              "  <thead>\n",
              "    <tr style=\"text-align: right;\">\n",
              "      <th></th>\n",
              "      <th>Name</th>\n",
              "      <th>Born</th>\n",
              "      <th>TitleYear</th>\n",
              "      <th>Federation</th>\n",
              "      <th>Sex</th>\n",
              "      <th>TitleAge</th>\n",
              "    </tr>\n",
              "  </thead>\n",
              "  <tbody>\n",
              "    <tr>\n",
              "      <th>1116</th>\n",
              "      <td>Mikėnas, Vladas</td>\n",
              "      <td>1910.0</td>\n",
              "      <td>1987.0</td>\n",
              "      <td>Lithuania</td>\n",
              "      <td>M</td>\n",
              "      <td>77.0</td>\n",
              "    </tr>\n",
              "    <tr>\n",
              "      <th>1015</th>\n",
              "      <td>Lundin, Erik</td>\n",
              "      <td>1904.0</td>\n",
              "      <td>1983.0</td>\n",
              "      <td>Sweden</td>\n",
              "      <td>M</td>\n",
              "      <td>79.0</td>\n",
              "    </tr>\n",
              "    <tr>\n",
              "      <th>1912</th>\n",
              "      <td>Zemgalis, Elmārs</td>\n",
              "      <td>1923.0</td>\n",
              "      <td>2003.0</td>\n",
              "      <td>Latvia</td>\n",
              "      <td>M</td>\n",
              "      <td>80.0</td>\n",
              "    </tr>\n",
              "    <tr>\n",
              "      <th>1070</th>\n",
              "      <td>Maróczy, Géza</td>\n",
              "      <td>1870.0</td>\n",
              "      <td>1950.0</td>\n",
              "      <td>Hungary</td>\n",
              "      <td>M</td>\n",
              "      <td>80.0</td>\n",
              "    </tr>\n",
              "    <tr>\n",
              "      <th>261</th>\n",
              "      <td>Canal, Esteban</td>\n",
              "      <td>1896.0</td>\n",
              "      <td>1977.0</td>\n",
              "      <td>Peru</td>\n",
              "      <td>M</td>\n",
              "      <td>81.0</td>\n",
              "    </tr>\n",
              "    <tr>\n",
              "      <th>1150</th>\n",
              "      <td>Monticelli, Mario</td>\n",
              "      <td>1902.0</td>\n",
              "      <td>1985.0</td>\n",
              "      <td>Italy</td>\n",
              "      <td>M</td>\n",
              "      <td>83.0</td>\n",
              "    </tr>\n",
              "    <tr>\n",
              "      <th>1040</th>\n",
              "      <td>Makogonov, Vladimir</td>\n",
              "      <td>1904.0</td>\n",
              "      <td>1987.0</td>\n",
              "      <td>Soviet Union</td>\n",
              "      <td>M</td>\n",
              "      <td>83.0</td>\n",
              "    </tr>\n",
              "    <tr>\n",
              "      <th>855</th>\n",
              "      <td>Koltanowski, George</td>\n",
              "      <td>1903.0</td>\n",
              "      <td>1988.0</td>\n",
              "      <td>Belgium</td>\n",
              "      <td>M</td>\n",
              "      <td>85.0</td>\n",
              "    </tr>\n",
              "    <tr>\n",
              "      <th>1112</th>\n",
              "      <td>Mieses, Jacques</td>\n",
              "      <td>1865.0</td>\n",
              "      <td>1950.0</td>\n",
              "      <td>England</td>\n",
              "      <td>M</td>\n",
              "      <td>85.0</td>\n",
              "    </tr>\n",
              "    <tr>\n",
              "      <th>1285</th>\n",
              "      <td>Paoli, Enrico</td>\n",
              "      <td>1908.0</td>\n",
              "      <td>1996.0</td>\n",
              "      <td>Italy</td>\n",
              "      <td>M</td>\n",
              "      <td>88.0</td>\n",
              "    </tr>\n",
              "  </tbody>\n",
              "</table>\n",
              "</div>"
            ],
            "text/plain": [
              "                     Name    Born  TitleYear    Federation Sex  TitleAge\n",
              "1116      Mikėnas, Vladas  1910.0     1987.0     Lithuania   M      77.0\n",
              "1015         Lundin, Erik  1904.0     1983.0        Sweden   M      79.0\n",
              "1912     Zemgalis, Elmārs  1923.0     2003.0        Latvia   M      80.0\n",
              "1070        Maróczy, Géza  1870.0     1950.0       Hungary   M      80.0\n",
              "261        Canal, Esteban  1896.0     1977.0          Peru   M      81.0\n",
              "1150    Monticelli, Mario  1902.0     1985.0         Italy   M      83.0\n",
              "1040  Makogonov, Vladimir  1904.0     1987.0  Soviet Union   M      83.0\n",
              "855   Koltanowski, George  1903.0     1988.0       Belgium   M      85.0\n",
              "1112      Mieses, Jacques  1865.0     1950.0       England   M      85.0\n",
              "1285        Paoli, Enrico  1908.0     1996.0         Italy   M      88.0"
            ]
          },
          "metadata": {
            "tags": []
          },
          "execution_count": 16
        }
      ]
    },
    {
      "cell_type": "markdown",
      "metadata": {
        "id": "lA2suDFR9uul"
      },
      "source": [
        "### Distributions of GMs per Sex and Country"
      ]
    },
    {
      "cell_type": "code",
      "metadata": {
        "colab": {
          "base_uri": "https://localhost:8080/"
        },
        "id": "YhlakvnNgC3w",
        "outputId": "d22b9e1c-526c-4154-a792-a0c450fe6a85"
      },
      "source": [
        "# GMs per country:\n",
        "\n",
        "countries = dict()\n",
        "for i in table2['Federation']:\n",
        "  #print(i)\n",
        "  countries[i] = countries.get(i, 0) + 1\n",
        "countries"
      ],
      "execution_count": 17,
      "outputs": [
        {
          "output_type": "execute_result",
          "data": {
            "text/plain": [
              "{'Albania': 1,\n",
              " 'Algeria': 2,\n",
              " 'Andorra': 2,\n",
              " 'Argentina': 33,\n",
              " 'Armenia': 42,\n",
              " 'Australia': 11,\n",
              " 'Austria': 8,\n",
              " 'Azerbaijan': 28,\n",
              " 'Bangladesh': 5,\n",
              " 'Belarus': 20,\n",
              " 'Belgium': 7,\n",
              " 'Bolivia': 1,\n",
              " 'Bosnia and Herzegovina': 5,\n",
              " 'Brazil': 14,\n",
              " 'Bulgaria': 41,\n",
              " 'Canada': 14,\n",
              " 'Chile': 6,\n",
              " 'China': 50,\n",
              " 'Colombia': 10,\n",
              " 'Costa Rica': 2,\n",
              " 'Croatia': 23,\n",
              " 'Cuba': 35,\n",
              " 'Czech Republic': 27,\n",
              " 'Czecho\\xadslovakia': 11,\n",
              " 'Denmark': 16,\n",
              " 'Dominican Republic': 1,\n",
              " 'East Germany': 4,\n",
              " 'Ecuador': 1,\n",
              " 'Egypt': 6,\n",
              " 'England': 43,\n",
              " 'Estonia': 6,\n",
              " 'FIDE': 1,\n",
              " 'Faroe Islands': 1,\n",
              " 'Finland': 6,\n",
              " 'France': 47,\n",
              " 'Georgia': 31,\n",
              " 'Germany': 79,\n",
              " 'Greece': 15,\n",
              " 'Hungary': 66,\n",
              " 'Iceland': 14,\n",
              " 'India': 67,\n",
              " 'Indonesia': 8,\n",
              " 'Iran': 17,\n",
              " 'Israel': 43,\n",
              " 'Italy': 17,\n",
              " 'Kazakhstan': 16,\n",
              " 'Kyrgyzstan': 1,\n",
              " 'Latvia': 13,\n",
              " 'Lithuania': 11,\n",
              " 'Luxembourg': 1,\n",
              " 'Mexico': 7,\n",
              " 'Moldava': 1,\n",
              " 'Moldova': 7,\n",
              " 'Mongolia': 8,\n",
              " 'Montenegro': 6,\n",
              " 'Morocco': 1,\n",
              " 'Myanmar': 1,\n",
              " 'Netherlands': 40,\n",
              " 'New Zealand': 1,\n",
              " 'North Macedonia': 8,\n",
              " 'Norway': 16,\n",
              " 'Paraguay': 2,\n",
              " 'Peru': 11,\n",
              " 'Philippines': 16,\n",
              " 'Poland': 51,\n",
              " 'Portugal': 4,\n",
              " 'Qatar': 2,\n",
              " 'Romania': 26,\n",
              " 'Russia': 252,\n",
              " 'Scotland': 5,\n",
              " 'Serbia': 44,\n",
              " 'Serbia and Montenegro': 2,\n",
              " 'Singapore': 2,\n",
              " 'Slovakia': 13,\n",
              " 'Slovenia': 10,\n",
              " 'South Africa': 1,\n",
              " 'Soviet Union': 97,\n",
              " 'Spain': 48,\n",
              " 'Sweden': 24,\n",
              " 'Switzerland': 7,\n",
              " 'Tajikistan': 2,\n",
              " 'Tunisia': 3,\n",
              " 'Turkey': 10,\n",
              " 'Turkmenistan': 6,\n",
              " 'Ukraine': 102,\n",
              " 'United Arab Emirates': 2,\n",
              " 'United States': 79,\n",
              " 'Uruguay': 1,\n",
              " 'Uzbekistan': 21,\n",
              " 'Venezuela': 2,\n",
              " 'Vietnam': 11,\n",
              " 'West Germany': 13,\n",
              " 'Yugoslavia': 44,\n",
              " 'Zambia': 1}"
            ]
          },
          "metadata": {
            "tags": []
          },
          "execution_count": 17
        }
      ]
    },
    {
      "cell_type": "code",
      "metadata": {
        "id": "KGjakzS90Rq1",
        "colab": {
          "base_uri": "https://localhost:8080/"
        },
        "outputId": "6c693951-9ef2-48dd-fcf6-fc4bedc3ed02"
      },
      "source": [
        "# GM per sex\n",
        "\n",
        "sex = dict()\n",
        "for i in table2['Sex']:\n",
        "  #print(i)\n",
        "  sex[i] = sex.get(i, 0) + 1\n",
        "sex\n",
        "\n",
        "# Female GMs represent only 1.95% of the total of GMs."
      ],
      "execution_count": 18,
      "outputs": [
        {
          "output_type": "execute_result",
          "data": {
            "text/plain": [
              "{'F': 38, 'M': 1901}"
            ]
          },
          "metadata": {
            "tags": []
          },
          "execution_count": 18
        }
      ]
    },
    {
      "cell_type": "code",
      "metadata": {
        "colab": {
          "base_uri": "https://localhost:8080/",
          "height": 1000
        },
        "id": "tpt_-CGl2j2M",
        "outputId": "83faa87d-4fb1-4352-8de6-743e3f2a8c53"
      },
      "source": [
        "# Distributions of GMs per sex and country displayed using Flourish.\n",
        "# Interactive visualization!\n",
        "\n",
        "display(HTML('https://public.flourish.studio/visualisation/6633672/'))"
      ],
      "execution_count": 19,
      "outputs": [
        {
          "output_type": "display_data",
          "data": {
            "text/html": [
              "<!DOCTYPE html>\n",
              "<html lang=\"en-GB\">\n",
              "<head>\n",
              "\t<meta charset=\"utf-8\">\n",
              "\t<meta name=\"viewport\" content=\"width=device-width, initial-scale=1,user-scalable=no\">\n",
              "\t\t<style>.async-hide { opacity: 0 !important} </style>\n",
              "\t\t<script>(function(a,s,y,n,c,h,i,d,e){s.className+=' '+y;h.start=1*new Date;\n",
              "\t\th.end=i=function(){s.className=s.className.replace(RegExp(' ?'+y),'')};\n",
              "\t\t(a[n]=a[n]||[]).hide=h;setTimeout(function(){i();h.end=null},c);h.timeout=c;\n",
              "\t\t})(window,document.documentElement,'async-hide','dataLayer',4000,\n",
              "\t\t{'GTM-P9WG4W5':true});</script>\n",
              "\t\t<script>\n",
              "\t\t  (function(i,s,o,g,r,a,m){i['GoogleAnalyticsObject']=r;i[r]=i[r]||function(){\n",
              "\t\t  (i[r].q=i[r].q||[]).push(arguments)},i[r].l=1*new Date();a=s.createElement(o),\n",
              "\t\t  m=s.getElementsByTagName(o)[0];a.async=1;a.src=g;m.parentNode.insertBefore(a,m)\n",
              "\t\t  })(window,document,'script','https://www.google-analytics.com/analytics.js','ga');\n",
              "\t\t  ga('create', 'UA-44635456-19', 'auto');\n",
              "\t\t  ga('require', 'GTM-P9WG4W5');\n",
              "\t\t  ga('send', 'pageview');\n",
              "\t\t</script>\n",
              "\t<title>Chess GM per Sex and Country | Flourish</title>\n",
              "\n",
              "\t<!-- Search engines -->\n",
              "\t<meta name=\"description\" content=\"A visualisation made with Flourish – the platform for interactive data visualisation and storytelling\">\n",
              "\t\t<link rel=\"canonical\" href=\"https://public.flourish.studio/visualisation/6633672/\">\n",
              "\t\t<link rel=\"alternate\" type=\"application/json+oembed\" href=\"https://app.flourish.studio/api/v1/oembed?url=https%3A%2F%2Fpublic.flourish.studio%2Fvisualisation%2F6633672%2F&format=json\" title=\"Chess GM per Sex and Country | Flourish\" />\n",
              "\t<!-- Google Plus -->\n",
              "\t<meta itemprop=\"name\" content=\"Chess GM per Sex and Country\">\n",
              "\t<meta itemprop=\"description\" content=\"A Flourish data visualisation by Ítalo Oliveira\">\n",
              "\t<meta itemprop=\"image\" content=\"https://public.flourish.studio/published_thumbnails/visualisation/6633672/43026697e7226d41.jpg\">\n",
              "\t<!-- Twitter -->\n",
              "\t<meta name=\"twitter:card\" content=\"summary_large_image\">\n",
              "\t<meta name=\"twitter:site\" content=\"Flourish\">\n",
              "\t<meta name=\"twitter:title\" content=\"Chess GM per Sex and Country\">\n",
              "\t<meta name=\"twitter:description\" content=\"A Flourish data visualisation by Ítalo Oliveira\">\n",
              "\t<meta name=\"twitter:creator\" content=\"@f_l_o_u_r_i_s_h\">\n",
              "\t<meta name=\"twitter:image:src\" content=\"https://public.flourish.studio/published_thumbnails/visualisation/6633672/43026697e7226d41.jpg\">\n",
              "\t<!-- Open Graph (Facebook & Pinterest) -->\n",
              "\t<meta property=\"og:title\" content=\"Chess GM per Sex and Country\">\n",
              "\t<meta property=\"og:description\" content=\"A Flourish data visualisation by Ítalo Oliveira\">\n",
              "\t<meta property=\"og:site_name\" content=\"Flourish\">\n",
              "\t<meta property=\"og:image\" content=\"https://public.flourish.studio/published_thumbnails/visualisation/6633672/43026697e7226d41.jpg\">\n",
              "\t<meta property=\"fb:app_id\" content=\"102649676918117\">\n",
              "\t<script>if (\"ontouchstart\" in window) { document.documentElement.classList.add(\"is-touch\"); }</script>\n",
              "\n",
              "\n",
              "\t<link rel=\"stylesheet\" type=\"text/css\" href=\"https://public.flourish.studio/resources/showcase.css\">\n",
              "\t<script src=\"https://public.flourish.studio/resources/showcase.js\" charset=\"utf-8\"></script>\n",
              "</head><body class=\"showcase-visualisation\">\n",
              "\t<div class=\"row header showcase-header has-duplicate-button\">\n",
              "\t\t<a href=\"https://app.flourish.studio/\" class=\"logo clickable menu-item\">\n",
              "\t\t\t<img class=\"logo-desktop\" data-target=\"home\" src=\"https://public.flourish.studio/resources/images/logo.svg\" alt=\"Flourish logo\">\n",
              "\t\t\t<img class=\"logo-mobile\" data-target=\"home\" src=\"https://public.flourish.studio/resources/bosh.svg\" alt=\"Flourish logo\">\n",
              "\t\t</a>\n",
              "\t\t<div class=\"project-title\">\n",
              "\t\t\t<h1>Chess GM per Sex and Country\n",
              "\t\t\t\t\n",
              "\t\t\t</h1>\n",
              "\t\t\t<h2>By <a href=\"https://app.flourish.studio/@italojsoliveira1\">Ítalo Oliveira</a> on\n",
              "\t\t\t\t4 Jul 2021\n",
              "\t\t\t\t</h2>\n",
              "\t\t</div>\n",
              "\t\t<div class=\"action-buttons\" onclick=\"\"> <!-- adding onclick for iOS bug https://stackoverflow.com/questions/35187970/css-hover-not-working-on-ios-safari-and-chrome-->\n",
              "\t\t\t<div class=\"share-group\">\n",
              "\t\t\t\t<div class=\"social-icons\">\n",
              "\t\t\t\t\t<span class=\"circle-icon clickable popup share-facebook\" data-popup-head=\"Share on Facebook\"><i class=\"fa fa-facebook\"></i>\n",
              "\t\t\t\t\t</span><span class=\"circle-icon clickable popup share-twitter\" data-popup-head=\"Share on Twitter\"><i class=\"fa fa-twitter\"></i>\n",
              "\t\t\t\t\t</span><span class=\"circle-icon clickable popup share-email\" data-popup-head=\"Share by email\"><i class=\"fa fa-envelope-o\"></i>\n",
              "\t\t\t\t\t</span><span class=\"circle-icon clickable popup embed\" data-popup-head=\"Embed\"><i class=\"fa fa-code\"></i>\n",
              "\t\t\t\t\t</span><span class=\"circle-icon share-mobile\" data-popup-head=\"Share this project\"><i class=\"fa fa-share-square-o\"></i></span>\n",
              "\t\t\t\t</div>\t\t</div>\n",
              "\t\t\t\t<form method=\"post\" action=\"https://app.flourish.studio/visualisation/6633672/duplicate\" class=\"create-new-container\">\n",
              "\t\t\t\t\t<button type=\"submit\" class=\"create-new btn popup\"><i class=\"fa fa-external-link\"></i> Duplicate<span> and edit</span></button>\n",
              "\t\t\t\t</form>\n",
              "\t\t</div>\n",
              "\t</div>\t<div class=\"content\">\n",
              "\t\t<div class=\"row showcase\">\n",
              "\t\t\t<div class=\"preview-container\">\n",
              "\t\t\t\t<div class=\"flourish-embed\" data-src=\"visualisation/6633672\"></div>\n",
              "\t\t\t</div>\n",
              "\t\t\t\t<div id=\"credits\" class=\"credits-text\">\n",
              "\t\t\t\t\t<h2>Template credits</h2>\n",
              "\t\t\t\t\t\t<a href=\"https://app.flourish.studio/†2151\">Hierarchy</a> by <strong>Flourish team</strong> <div class=\"credit-detail\"></div>\n",
              "\t\t\t\t</div>\n",
              "\t\t</div>\n",
              "\t</div>\n",
              "\t<div class=\"row footer\">\n",
              "\t\t<div class=\"row-inner\">\n",
              "\t\t\t<div class=\"row-contents\">\n",
              "\t\t\t\t<div class=\"footer-column footer-contact\">\n",
              "\t\t\t\t\t<h2>\n",
              "\t\t\t\t\t\t<a href=\"https://twitter.com/f_l_o_u_r_i_s_h\"><i class=\"fa fa-twitter-square\"></i></a>\n",
              "\t\t\t\t\t\t<a href=\"https://www.linkedin.com/company/f-l-o-u-r-i-s-h\"><i class=\"fa fa-linkedin-square\"></i></a>\n",
              "\t\t\t\t\t\t<a href=\"https://www.instagram.com/madewithflourish/\"><i class=\"fa fa-instagram\"></i></a>\n",
              "\t\t\t\t\t</h2>\n",
              "\t\t\t\t\t<h3>\n",
              "\t\t\t\t\t<a href=\"mailto:\"></a>\n",
              "\t\t\t\t\t</h3>\n",
              "\t\t\t\t\t<h3>+44 (0)20 3290 3920</h3>\n",
              "\t\t\t\t\t<p>Flourish is a registered trademark of</p>\n",
              "\t\t\t\t\t<p>Kiln Enterprises Ltd, UK company 08825531</p>\n",
              "\t\t\t\t\t<p>Acre House, 11–15 William Rd, London NW1 3ER</p>\n",
              "\t\t\t\t</div>\n",
              "\t\t\t\t<div class=\"footer-column footer-menu\">\n",
              "\t\t\t\t\t<p class=\"menu-item\"><a href=\"https://help.flourish.studio\">Help</a></p>\n",
              "\t\t\t\t\t<p class=\"menu-item\"><a href=\"https://flourish.studio/examples\">Examples</a></p>\n",
              "\t\t\t\t\t<p class=\"menu-item\"><a href=\"https://app.flourish.studio/login\">Sign in</a></p>\n",
              "\t\t\t\t\t<p class=\"menu-item\"><a href=\"https://flourish.studio/developers\">Developers</a></p>\n",
              "\t\t\t\t\t<p class=\"menu-item\"><a href=\"https://flourish.studio/experts\">Experts</a></p>\n",
              "\t\t\t\t\t<p class=\"menu-item\"><a href=\"https://flourish.studio/company\">Company</a></p>\n",
              "\t\t\t\t\t<p class=\"menu-item\"><a href=\"https://flourish.studio/blog\">Blog</a></p>\n",
              "\t\t\t\t\t<p class=\"menu-item\"><a href=\"https://flourish.studio/terms\">Terms</a></p>\n",
              "\t\t\t\t\t<p class=\"menu-item\"><a href=\"https://flourish.studio/privacy\">Privacy</a></p>\n",
              "\t\t\t\t</div>\n",
              "\t\t\t\t<div class=\"footer-column footer-blog\">\n",
              "\t\t\t\t\t<a href=\"https://flourish.studio/blog\">Read our latest blog posts »</a>\n",
              "\t\t\t\t</div>\n",
              "\t\t\t</div>\n",
              "\t\t</div>\n",
              "\t</div>\t<script>\n",
              "\t\tFlourish.initShowcaseVisualisation(\"https://public.flourish.studio/\", 6633672, [\"hierarchy\",\"exploer\",\"sunburst\",\"treemap\",\"packed-circles\",\"radial\",\"bar\"], 3, \"https://flo.uri.sh/visualisation/6633672/embed\", );\n",
              "\t</script>\n",
              "\t<script src=\"https://public.flourish.studio/resources/embed.js\"></script>\n",
              "\t<script src=\"https://flourish.studio/js/store-inbound-fields.js\" charset=\"utf-8\"></script></body>\n",
              "</html>"
            ],
            "text/plain": [
              "<IPython.core.display.HTML object>"
            ]
          },
          "metadata": {
            "tags": []
          }
        }
      ]
    },
    {
      "cell_type": "code",
      "metadata": {
        "colab": {
          "base_uri": "https://localhost:8080/",
          "height": 1000
        },
        "id": "rIrmK53q-x0v",
        "outputId": "e7df5d8e-cfc0-4c13-d5af-4cf9fe6ad2d4"
      },
      "source": [
        "# Scatter plot (with regression line) showing the distribution of title age of the GM and the year of the title:\n",
        "# Interactive visualization!\n",
        "\n",
        "display(HTML('https://public.flourish.studio/visualisation/6633947/'))"
      ],
      "execution_count": 20,
      "outputs": [
        {
          "output_type": "display_data",
          "data": {
            "text/html": [
              "<!DOCTYPE html>\n",
              "<html lang=\"en-GB\">\n",
              "<head>\n",
              "\t<meta charset=\"utf-8\">\n",
              "\t<meta name=\"viewport\" content=\"width=device-width, initial-scale=1,user-scalable=no\">\n",
              "\t\t<style>.async-hide { opacity: 0 !important} </style>\n",
              "\t\t<script>(function(a,s,y,n,c,h,i,d,e){s.className+=' '+y;h.start=1*new Date;\n",
              "\t\th.end=i=function(){s.className=s.className.replace(RegExp(' ?'+y),'')};\n",
              "\t\t(a[n]=a[n]||[]).hide=h;setTimeout(function(){i();h.end=null},c);h.timeout=c;\n",
              "\t\t})(window,document.documentElement,'async-hide','dataLayer',4000,\n",
              "\t\t{'GTM-P9WG4W5':true});</script>\n",
              "\t\t<script>\n",
              "\t\t  (function(i,s,o,g,r,a,m){i['GoogleAnalyticsObject']=r;i[r]=i[r]||function(){\n",
              "\t\t  (i[r].q=i[r].q||[]).push(arguments)},i[r].l=1*new Date();a=s.createElement(o),\n",
              "\t\t  m=s.getElementsByTagName(o)[0];a.async=1;a.src=g;m.parentNode.insertBefore(a,m)\n",
              "\t\t  })(window,document,'script','https://www.google-analytics.com/analytics.js','ga');\n",
              "\t\t  ga('create', 'UA-44635456-19', 'auto');\n",
              "\t\t  ga('require', 'GTM-P9WG4W5');\n",
              "\t\t  ga('send', 'pageview');\n",
              "\t\t</script>\n",
              "\t<title>Chess GM Age | Flourish</title>\n",
              "\n",
              "\t<!-- Search engines -->\n",
              "\t<meta name=\"description\" content=\"Compare two variables\">\n",
              "\t\t<link rel=\"canonical\" href=\"https://public.flourish.studio/visualisation/6633947/\">\n",
              "\t\t<link rel=\"alternate\" type=\"application/json+oembed\" href=\"https://app.flourish.studio/api/v1/oembed?url=https%3A%2F%2Fpublic.flourish.studio%2Fvisualisation%2F6633947%2F&format=json\" title=\"Chess GM Age | Flourish\" />\n",
              "\t<!-- Google Plus -->\n",
              "\t<meta itemprop=\"name\" content=\"Chess GM Age\">\n",
              "\t<meta itemprop=\"description\" content=\"A Flourish data visualisation by Ítalo Oliveira\">\n",
              "\t<meta itemprop=\"image\" content=\"https://public.flourish.studio/published_thumbnails/visualisation/6633947/41c05b96a77a7098.jpg\">\n",
              "\t<!-- Twitter -->\n",
              "\t<meta name=\"twitter:card\" content=\"summary_large_image\">\n",
              "\t<meta name=\"twitter:site\" content=\"Flourish\">\n",
              "\t<meta name=\"twitter:title\" content=\"Chess GM Age\">\n",
              "\t<meta name=\"twitter:description\" content=\"A Flourish data visualisation by Ítalo Oliveira\">\n",
              "\t<meta name=\"twitter:creator\" content=\"@f_l_o_u_r_i_s_h\">\n",
              "\t<meta name=\"twitter:image:src\" content=\"https://public.flourish.studio/published_thumbnails/visualisation/6633947/41c05b96a77a7098.jpg\">\n",
              "\t<!-- Open Graph (Facebook & Pinterest) -->\n",
              "\t<meta property=\"og:title\" content=\"Chess GM Age\">\n",
              "\t<meta property=\"og:description\" content=\"A Flourish data visualisation by Ítalo Oliveira\">\n",
              "\t<meta property=\"og:site_name\" content=\"Flourish\">\n",
              "\t<meta property=\"og:image\" content=\"https://public.flourish.studio/published_thumbnails/visualisation/6633947/41c05b96a77a7098.jpg\">\n",
              "\t<meta property=\"fb:app_id\" content=\"102649676918117\">\n",
              "\t<script>if (\"ontouchstart\" in window) { document.documentElement.classList.add(\"is-touch\"); }</script>\n",
              "\n",
              "\n",
              "\t<link rel=\"stylesheet\" type=\"text/css\" href=\"https://public.flourish.studio/resources/showcase.css\">\n",
              "\t<script src=\"https://public.flourish.studio/resources/showcase.js\" charset=\"utf-8\"></script>\n",
              "</head><body class=\"showcase-visualisation\">\n",
              "\t<div class=\"row header showcase-header has-duplicate-button\">\n",
              "\t\t<a href=\"https://app.flourish.studio/\" class=\"logo clickable menu-item\">\n",
              "\t\t\t<img class=\"logo-desktop\" data-target=\"home\" src=\"https://public.flourish.studio/resources/images/logo.svg\" alt=\"Flourish logo\">\n",
              "\t\t\t<img class=\"logo-mobile\" data-target=\"home\" src=\"https://public.flourish.studio/resources/bosh.svg\" alt=\"Flourish logo\">\n",
              "\t\t</a>\n",
              "\t\t<div class=\"project-title\">\n",
              "\t\t\t<h1>Chess GM Age\n",
              "\t\t\t\t\n",
              "\t\t\t</h1>\n",
              "\t\t\t<h2>By <a href=\"https://app.flourish.studio/@italojsoliveira1\">Ítalo Oliveira</a> on\n",
              "\t\t\t\t4 Jul 2021\n",
              "\t\t\t\t</h2>\n",
              "\t\t</div>\n",
              "\t\t<div class=\"action-buttons\" onclick=\"\"> <!-- adding onclick for iOS bug https://stackoverflow.com/questions/35187970/css-hover-not-working-on-ios-safari-and-chrome-->\n",
              "\t\t\t<div class=\"share-group\">\n",
              "\t\t\t\t<div class=\"social-icons\">\n",
              "\t\t\t\t\t<span class=\"circle-icon clickable popup share-facebook\" data-popup-head=\"Share on Facebook\"><i class=\"fa fa-facebook\"></i>\n",
              "\t\t\t\t\t</span><span class=\"circle-icon clickable popup share-twitter\" data-popup-head=\"Share on Twitter\"><i class=\"fa fa-twitter\"></i>\n",
              "\t\t\t\t\t</span><span class=\"circle-icon clickable popup share-email\" data-popup-head=\"Share by email\"><i class=\"fa fa-envelope-o\"></i>\n",
              "\t\t\t\t\t</span><span class=\"circle-icon clickable popup embed\" data-popup-head=\"Embed\"><i class=\"fa fa-code\"></i>\n",
              "\t\t\t\t\t</span><span class=\"circle-icon share-mobile\" data-popup-head=\"Share this project\"><i class=\"fa fa-share-square-o\"></i></span>\n",
              "\t\t\t\t</div>\t\t</div>\n",
              "\t\t\t\t<form method=\"post\" action=\"https://app.flourish.studio/visualisation/6633947/duplicate\" class=\"create-new-container\">\n",
              "\t\t\t\t\t<button type=\"submit\" class=\"create-new btn popup\"><i class=\"fa fa-external-link\"></i> Duplicate<span> and edit</span></button>\n",
              "\t\t\t\t</form>\n",
              "\t\t</div>\n",
              "\t</div>\t<div class=\"content\">\n",
              "\t\t<div class=\"row showcase\">\n",
              "\t\t\t<div class=\"preview-container\">\n",
              "\t\t\t\t<div class=\"flourish-embed\" data-src=\"visualisation/6633947\"></div>\n",
              "\t\t\t</div>\n",
              "\t\t\t\t<div id=\"credits\" class=\"credits-text\">\n",
              "\t\t\t\t\t<h2>Template credits</h2>\n",
              "\t\t\t\t\t\t<a href=\"https://app.flourish.studio/†2129\">Scatter</a> by <strong>Flourish team</strong> <div class=\"credit-detail\"></div>\n",
              "\t\t\t\t</div>\n",
              "\t\t</div>\n",
              "\t</div>\n",
              "\t<div class=\"row footer\">\n",
              "\t\t<div class=\"row-inner\">\n",
              "\t\t\t<div class=\"row-contents\">\n",
              "\t\t\t\t<div class=\"footer-column footer-contact\">\n",
              "\t\t\t\t\t<h2>\n",
              "\t\t\t\t\t\t<a href=\"https://twitter.com/f_l_o_u_r_i_s_h\"><i class=\"fa fa-twitter-square\"></i></a>\n",
              "\t\t\t\t\t\t<a href=\"https://www.linkedin.com/company/f-l-o-u-r-i-s-h\"><i class=\"fa fa-linkedin-square\"></i></a>\n",
              "\t\t\t\t\t\t<a href=\"https://www.instagram.com/madewithflourish/\"><i class=\"fa fa-instagram\"></i></a>\n",
              "\t\t\t\t\t</h2>\n",
              "\t\t\t\t\t<h3>\n",
              "\t\t\t\t\t<a href=\"mailto:\"></a>\n",
              "\t\t\t\t\t</h3>\n",
              "\t\t\t\t\t<h3>+44 (0)20 3290 3920</h3>\n",
              "\t\t\t\t\t<p>Flourish is a registered trademark of</p>\n",
              "\t\t\t\t\t<p>Kiln Enterprises Ltd, UK company 08825531</p>\n",
              "\t\t\t\t\t<p>Acre House, 11–15 William Rd, London NW1 3ER</p>\n",
              "\t\t\t\t</div>\n",
              "\t\t\t\t<div class=\"footer-column footer-menu\">\n",
              "\t\t\t\t\t<p class=\"menu-item\"><a href=\"https://help.flourish.studio\">Help</a></p>\n",
              "\t\t\t\t\t<p class=\"menu-item\"><a href=\"https://flourish.studio/examples\">Examples</a></p>\n",
              "\t\t\t\t\t<p class=\"menu-item\"><a href=\"https://app.flourish.studio/login\">Sign in</a></p>\n",
              "\t\t\t\t\t<p class=\"menu-item\"><a href=\"https://flourish.studio/developers\">Developers</a></p>\n",
              "\t\t\t\t\t<p class=\"menu-item\"><a href=\"https://flourish.studio/experts\">Experts</a></p>\n",
              "\t\t\t\t\t<p class=\"menu-item\"><a href=\"https://flourish.studio/company\">Company</a></p>\n",
              "\t\t\t\t\t<p class=\"menu-item\"><a href=\"https://flourish.studio/blog\">Blog</a></p>\n",
              "\t\t\t\t\t<p class=\"menu-item\"><a href=\"https://flourish.studio/terms\">Terms</a></p>\n",
              "\t\t\t\t\t<p class=\"menu-item\"><a href=\"https://flourish.studio/privacy\">Privacy</a></p>\n",
              "\t\t\t\t</div>\n",
              "\t\t\t\t<div class=\"footer-column footer-blog\">\n",
              "\t\t\t\t\t<a href=\"https://flourish.studio/blog\">Read our latest blog posts »</a>\n",
              "\t\t\t\t</div>\n",
              "\t\t\t</div>\n",
              "\t\t</div>\n",
              "\t</div>\t<script>\n",
              "\t\tFlourish.initShowcaseVisualisation(\"https://public.flourish.studio/\", 6633947, [\"scatter\",\"chart\",\"correlation\",\"distribution\",\"change-over-time\",\"line\",\"box-plot\",\"violin-plot\",\"beeswarm\",\"webgl\",\"big-data\",\"dot-plot\"], 3, \"https://flo.uri.sh/visualisation/6633947/embed\", );\n",
              "\t</script>\n",
              "\t<script src=\"https://public.flourish.studio/resources/embed.js\"></script>\n",
              "\t<script src=\"https://flourish.studio/js/store-inbound-fields.js\" charset=\"utf-8\"></script></body>\n",
              "</html>"
            ],
            "text/plain": [
              "<IPython.core.display.HTML object>"
            ]
          },
          "metadata": {
            "tags": []
          }
        }
      ]
    },
    {
      "cell_type": "code",
      "metadata": {
        "id": "bI5gMsM42jWm"
      },
      "source": [
        "# For converting the dataset seen in the variable table2 (DataFrame) into a csv file:\n",
        "\n",
        "table2.to_csv('chess.csv')"
      ],
      "execution_count": 21,
      "outputs": []
    }
  ]
}